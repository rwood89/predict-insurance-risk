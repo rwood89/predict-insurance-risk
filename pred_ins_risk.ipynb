{
 "cells": [
  {
   "cell_type": "markdown",
   "id": "b10a3e91",
   "metadata": {},
   "source": [
    "# Predicting Insurance Risk using Machine Learning (ML)"
   ]
  },
  {
   "cell_type": "markdown",
   "id": "63680034",
   "metadata": {},
   "source": [
    "## Background\n",
    "Historically, the business has used traditional risk quantification methods in order to predict the risk of offering an insurance policy to a potential customer. The risk is the probability of a customer filing a claim within one year of policy purchase, resulting in a loss for the business."
   ]
  },
  {
   "cell_type": "markdown",
   "id": "da6b4113",
   "metadata": {},
   "source": [
    "## The challenge\n",
    "Traditional methods have been used for a long time, and stakeholders are not yet confident in the ability of ML methodology. We need to demonstrate how and why adopting ML can provide additional value in an easy to understand manner."
   ]
  },
  {
   "cell_type": "markdown",
   "id": "c1ec3d4e",
   "metadata": {},
   "source": [
    "## Objective\n",
    "This project aims to:\n",
    "- Synthesise a dataset of 10,000 customers that is akin to a real-world insurance company dataset.\n",
    "- Provide Exploratory Data Analysis (EDA) and context behind pre-processing of the data.\n",
    "- Develop an ML model proof of concept to predict user purchase likelihood based on browsing history and product interactions.\n",
    "- Provide next steps to cover what steps need to be taken to take the proof of concept into production."
   ]
  },
  {
   "cell_type": "markdown",
   "id": "5ba8eb87",
   "metadata": {},
   "source": [
    "## Impact\n",
    "This notebook aims to provide evidence of the potential of ML methodology to add value to the business, improving accuracy compared with traditional risk quantification methods. Transparency of the work behind the proof of concept aims to aid stakeholder understanding, increasing knowledge and encouraging the organisation to embrace ML technology."
   ]
  }
 ],
 "metadata": {
  "kernelspec": {
   "display_name": "predinsrisk",
   "language": "python",
   "name": "python3"
  },
  "language_info": {
   "name": "python",
   "version": "3.13.5"
  }
 },
 "nbformat": 4,
 "nbformat_minor": 5
}
